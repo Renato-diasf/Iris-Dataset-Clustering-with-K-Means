{
 "cells": [
  {
   "cell_type": "markdown",
   "id": "f6d1e6f7",
   "metadata": {},
   "source": [
    "**Renato Dias Ferreira Campos**<br/>\n"
   ]
  },
  {
   "cell_type": "markdown",
   "id": "73f1b1f3",
   "metadata": {},
   "source": [
    "<h1>Trabalho de Aprendizado de Máquina - Agrupamento</h1>"
   ]
  },
  {
   "cell_type": "markdown",
   "id": "3dae48e0",
   "metadata": {},
   "source": [
    "### Importando bibliotecas"
   ]
  },
  {
   "cell_type": "code",
   "execution_count": 2,
   "id": "d0a8b21b",
   "metadata": {},
   "outputs": [],
   "source": [
    "import numpy as np\n",
    "import pandas as pd\n",
    "\n",
    "from sklearn.cluster import KMeans\n",
    "\n",
    "import matplotlib.pyplot as plt\n",
    "\n",
    "from sklearn.preprocessing import MinMaxScaler\n",
    "import warnings\n",
    "warnings.filterwarnings('ignore')"
   ]
  },
  {
   "cell_type": "markdown",
   "id": "2ba73806",
   "metadata": {},
   "source": [
    "## Dataset Iris\n",
    "\n",
    "O **dataset Iris** é um dos conjuntos de dados mais conhecidos na área de aprendizado de máquina e estatística. Ele foi introduzido pelo estatístico Ronald Fisher em 1936 e é frequentemente usado para exemplificar algoritmos de classificação e clustering.\n",
    "\n",
    "### Descrição Geral:\n",
    "- O dataset contém **150 amostras** de flores de íris, divididas em **3 espécies**:\n",
    "  1. **Iris Setosa**\n",
    "  2. **Iris Versicolor**\n",
    "  3. **Iris Virginica**\n",
    "- Cada espécie tem **50 amostras**.\n",
    "- Para cada amostra, são fornecidas **4 características** (features) medidas em centímetros.\n",
    "\n",
    "---"
   ]
  },
  {
   "cell_type": "markdown",
   "id": "18286e55",
   "metadata": {},
   "source": [
    "## Colunas do Dataset\n",
    "\n",
    "O dataset Iris possui as seguintes colunas:\n",
    "\n",
    "| Nome da Coluna     | Descrição                                      | Tipo de Dado | Unidade |\n",
    "|--------------------|------------------------------------------------|--------------|---------|\n",
    "| **sepal.length**   | Comprimento da sépala (parte externa da flor). | Contínuo     | cm      |\n",
    "| **sepal.width**    | Largura da sépala.                             | Contínuo     | cm      |\n",
    "| **petal.length**   | Comprimento da pétala (parte interna da flor). | Contínuo     | cm      |\n",
    "| **petal.width**    | Largura da pétala.                             | Contínuo     | cm      |\n",
    "| **variety**        | Espécie da flor (rótulo/classe).               | Categórico   | -       |\n",
    "\n",
    "---"
   ]
  },
  {
   "cell_type": "markdown",
   "id": "56e735fb",
   "metadata": {},
   "source": [
    "## Detalhes sobre as Espécies (Classes)\n",
    "\n",
    "As três espécies de íris no dataset são:\n",
    "\n",
    "1. **Iris Setosa**:\n",
    "   - Flores com sépalas e pétalas menores.\n",
    "   - Facilmente distinguível das outras duas espécies.\n",
    "\n",
    "2. **Iris Versicolor**:\n",
    "   - Flores de tamanho médio.\n",
    "   - Mais semelhante à Iris Virginica do que à Iris Setosa.\n",
    "\n",
    "3. **Iris Virginica**:\n",
    "   - Flores com sépalas e pétalas maiores.\n",
    "   - Mais semelhante à Iris Versicolor.\n",
    "\n",
    "---"
   ]
  },
  {
   "cell_type": "code",
   "execution_count": 3,
   "id": "77a8b2b7",
   "metadata": {},
   "outputs": [],
   "source": [
    "df = pd.read_csv(\"iris.csv\")"
   ]
  },
  {
   "cell_type": "code",
   "execution_count": 4,
   "id": "3325d16a",
   "metadata": {},
   "outputs": [
    {
     "data": {
      "text/html": [
       "<div>\n",
       "<style scoped>\n",
       "    .dataframe tbody tr th:only-of-type {\n",
       "        vertical-align: middle;\n",
       "    }\n",
       "\n",
       "    .dataframe tbody tr th {\n",
       "        vertical-align: top;\n",
       "    }\n",
       "\n",
       "    .dataframe thead th {\n",
       "        text-align: right;\n",
       "    }\n",
       "</style>\n",
       "<table border=\"1\" class=\"dataframe\">\n",
       "  <thead>\n",
       "    <tr style=\"text-align: right;\">\n",
       "      <th></th>\n",
       "      <th>sepal.length</th>\n",
       "      <th>sepal.width</th>\n",
       "      <th>petal.length</th>\n",
       "      <th>petal.width</th>\n",
       "      <th>variety</th>\n",
       "    </tr>\n",
       "  </thead>\n",
       "  <tbody>\n",
       "    <tr>\n",
       "      <th>0</th>\n",
       "      <td>5.1</td>\n",
       "      <td>3.5</td>\n",
       "      <td>1.4</td>\n",
       "      <td>0.2</td>\n",
       "      <td>Setosa</td>\n",
       "    </tr>\n",
       "    <tr>\n",
       "      <th>1</th>\n",
       "      <td>4.9</td>\n",
       "      <td>3.0</td>\n",
       "      <td>1.4</td>\n",
       "      <td>0.2</td>\n",
       "      <td>Setosa</td>\n",
       "    </tr>\n",
       "    <tr>\n",
       "      <th>2</th>\n",
       "      <td>4.7</td>\n",
       "      <td>3.2</td>\n",
       "      <td>1.3</td>\n",
       "      <td>0.2</td>\n",
       "      <td>Setosa</td>\n",
       "    </tr>\n",
       "    <tr>\n",
       "      <th>3</th>\n",
       "      <td>4.6</td>\n",
       "      <td>3.1</td>\n",
       "      <td>1.5</td>\n",
       "      <td>0.2</td>\n",
       "      <td>Setosa</td>\n",
       "    </tr>\n",
       "    <tr>\n",
       "      <th>4</th>\n",
       "      <td>5.0</td>\n",
       "      <td>3.6</td>\n",
       "      <td>1.4</td>\n",
       "      <td>0.2</td>\n",
       "      <td>Setosa</td>\n",
       "    </tr>\n",
       "  </tbody>\n",
       "</table>\n",
       "</div>"
      ],
      "text/plain": [
       "   sepal.length  sepal.width  petal.length  petal.width variety\n",
       "0           5.1          3.5           1.4          0.2  Setosa\n",
       "1           4.9          3.0           1.4          0.2  Setosa\n",
       "2           4.7          3.2           1.3          0.2  Setosa\n",
       "3           4.6          3.1           1.5          0.2  Setosa\n",
       "4           5.0          3.6           1.4          0.2  Setosa"
      ]
     },
     "execution_count": 4,
     "metadata": {},
     "output_type": "execute_result"
    }
   ],
   "source": [
    "#Apresentação das 5 primeiras linhas\n",
    "df.head()"
   ]
  },
  {
   "cell_type": "code",
   "execution_count": 5,
   "id": "b623f469",
   "metadata": {},
   "outputs": [
    {
     "name": "stdout",
     "output_type": "stream",
     "text": [
      "<class 'pandas.core.frame.DataFrame'>\n",
      "RangeIndex: 150 entries, 0 to 149\n",
      "Data columns (total 5 columns):\n",
      " #   Column        Non-Null Count  Dtype  \n",
      "---  ------        --------------  -----  \n",
      " 0   sepal.length  150 non-null    float64\n",
      " 1   sepal.width   150 non-null    float64\n",
      " 2   petal.length  150 non-null    float64\n",
      " 3   petal.width   150 non-null    float64\n",
      " 4   variety       150 non-null    object \n",
      "dtypes: float64(4), object(1)\n",
      "memory usage: 6.0+ KB\n"
     ]
    }
   ],
   "source": [
    "df.info()"
   ]
  },
  {
   "cell_type": "code",
   "execution_count": 6,
   "id": "675af0de",
   "metadata": {},
   "outputs": [],
   "source": [
    "#separação da nossa coluna classe (identifica a espécie da íris)\n",
    "classe = ['variety']"
   ]
  },
  {
   "cell_type": "code",
   "execution_count": 7,
   "id": "cf47e7e4",
   "metadata": {},
   "outputs": [],
   "source": [
    "#Transformando nossa classe categórica\n",
    "df.replace({'Setosa': 0, 'Versicolor': 1, 'Virginica': 2}, inplace = True)"
   ]
  },
  {
   "cell_type": "code",
   "execution_count": 8,
   "id": "09486311",
   "metadata": {},
   "outputs": [
    {
     "data": {
      "text/html": [
       "<div>\n",
       "<style scoped>\n",
       "    .dataframe tbody tr th:only-of-type {\n",
       "        vertical-align: middle;\n",
       "    }\n",
       "\n",
       "    .dataframe tbody tr th {\n",
       "        vertical-align: top;\n",
       "    }\n",
       "\n",
       "    .dataframe thead th {\n",
       "        text-align: right;\n",
       "    }\n",
       "</style>\n",
       "<table border=\"1\" class=\"dataframe\">\n",
       "  <thead>\n",
       "    <tr style=\"text-align: right;\">\n",
       "      <th></th>\n",
       "      <th>sepal.length</th>\n",
       "      <th>sepal.width</th>\n",
       "      <th>petal.length</th>\n",
       "      <th>petal.width</th>\n",
       "      <th>variety</th>\n",
       "    </tr>\n",
       "  </thead>\n",
       "  <tbody>\n",
       "    <tr>\n",
       "      <th>0</th>\n",
       "      <td>5.1</td>\n",
       "      <td>3.5</td>\n",
       "      <td>1.4</td>\n",
       "      <td>0.2</td>\n",
       "      <td>0</td>\n",
       "    </tr>\n",
       "    <tr>\n",
       "      <th>1</th>\n",
       "      <td>4.9</td>\n",
       "      <td>3.0</td>\n",
       "      <td>1.4</td>\n",
       "      <td>0.2</td>\n",
       "      <td>0</td>\n",
       "    </tr>\n",
       "    <tr>\n",
       "      <th>2</th>\n",
       "      <td>4.7</td>\n",
       "      <td>3.2</td>\n",
       "      <td>1.3</td>\n",
       "      <td>0.2</td>\n",
       "      <td>0</td>\n",
       "    </tr>\n",
       "    <tr>\n",
       "      <th>3</th>\n",
       "      <td>4.6</td>\n",
       "      <td>3.1</td>\n",
       "      <td>1.5</td>\n",
       "      <td>0.2</td>\n",
       "      <td>0</td>\n",
       "    </tr>\n",
       "    <tr>\n",
       "      <th>4</th>\n",
       "      <td>5.0</td>\n",
       "      <td>3.6</td>\n",
       "      <td>1.4</td>\n",
       "      <td>0.2</td>\n",
       "      <td>0</td>\n",
       "    </tr>\n",
       "  </tbody>\n",
       "</table>\n",
       "</div>"
      ],
      "text/plain": [
       "   sepal.length  sepal.width  petal.length  petal.width  variety\n",
       "0           5.1          3.5           1.4          0.2        0\n",
       "1           4.9          3.0           1.4          0.2        0\n",
       "2           4.7          3.2           1.3          0.2        0\n",
       "3           4.6          3.1           1.5          0.2        0\n",
       "4           5.0          3.6           1.4          0.2        0"
      ]
     },
     "execution_count": 8,
     "metadata": {},
     "output_type": "execute_result"
    }
   ],
   "source": [
    "df.head()"
   ]
  },
  {
   "cell_type": "code",
   "execution_count": 9,
   "id": "4588f59b",
   "metadata": {},
   "outputs": [],
   "source": [
    "#DataFrame usado para o treinamento\n",
    "df_noClass = df.drop('variety', axis = 1)"
   ]
  },
  {
   "cell_type": "code",
   "execution_count": 10,
   "id": "a6c0f040",
   "metadata": {},
   "outputs": [
    {
     "data": {
      "text/html": [
       "<div>\n",
       "<style scoped>\n",
       "    .dataframe tbody tr th:only-of-type {\n",
       "        vertical-align: middle;\n",
       "    }\n",
       "\n",
       "    .dataframe tbody tr th {\n",
       "        vertical-align: top;\n",
       "    }\n",
       "\n",
       "    .dataframe thead th {\n",
       "        text-align: right;\n",
       "    }\n",
       "</style>\n",
       "<table border=\"1\" class=\"dataframe\">\n",
       "  <thead>\n",
       "    <tr style=\"text-align: right;\">\n",
       "      <th></th>\n",
       "      <th>sepal.length</th>\n",
       "      <th>sepal.width</th>\n",
       "      <th>petal.length</th>\n",
       "      <th>petal.width</th>\n",
       "    </tr>\n",
       "  </thead>\n",
       "  <tbody>\n",
       "    <tr>\n",
       "      <th>0</th>\n",
       "      <td>5.1</td>\n",
       "      <td>3.5</td>\n",
       "      <td>1.4</td>\n",
       "      <td>0.2</td>\n",
       "    </tr>\n",
       "    <tr>\n",
       "      <th>1</th>\n",
       "      <td>4.9</td>\n",
       "      <td>3.0</td>\n",
       "      <td>1.4</td>\n",
       "      <td>0.2</td>\n",
       "    </tr>\n",
       "    <tr>\n",
       "      <th>2</th>\n",
       "      <td>4.7</td>\n",
       "      <td>3.2</td>\n",
       "      <td>1.3</td>\n",
       "      <td>0.2</td>\n",
       "    </tr>\n",
       "    <tr>\n",
       "      <th>3</th>\n",
       "      <td>4.6</td>\n",
       "      <td>3.1</td>\n",
       "      <td>1.5</td>\n",
       "      <td>0.2</td>\n",
       "    </tr>\n",
       "    <tr>\n",
       "      <th>4</th>\n",
       "      <td>5.0</td>\n",
       "      <td>3.6</td>\n",
       "      <td>1.4</td>\n",
       "      <td>0.2</td>\n",
       "    </tr>\n",
       "  </tbody>\n",
       "</table>\n",
       "</div>"
      ],
      "text/plain": [
       "   sepal.length  sepal.width  petal.length  petal.width\n",
       "0           5.1          3.5           1.4          0.2\n",
       "1           4.9          3.0           1.4          0.2\n",
       "2           4.7          3.2           1.3          0.2\n",
       "3           4.6          3.1           1.5          0.2\n",
       "4           5.0          3.6           1.4          0.2"
      ]
     },
     "execution_count": 10,
     "metadata": {},
     "output_type": "execute_result"
    }
   ],
   "source": [
    "df_noClass.head()"
   ]
  },
  {
   "cell_type": "code",
   "execution_count": 11,
   "id": "bb2f0dd7",
   "metadata": {},
   "outputs": [
    {
     "data": {
      "text/html": [
       "<div>\n",
       "<style scoped>\n",
       "    .dataframe tbody tr th:only-of-type {\n",
       "        vertical-align: middle;\n",
       "    }\n",
       "\n",
       "    .dataframe tbody tr th {\n",
       "        vertical-align: top;\n",
       "    }\n",
       "\n",
       "    .dataframe thead th {\n",
       "        text-align: right;\n",
       "    }\n",
       "</style>\n",
       "<table border=\"1\" class=\"dataframe\">\n",
       "  <thead>\n",
       "    <tr style=\"text-align: right;\">\n",
       "      <th></th>\n",
       "      <th>0</th>\n",
       "      <th>1</th>\n",
       "      <th>2</th>\n",
       "      <th>3</th>\n",
       "    </tr>\n",
       "  </thead>\n",
       "  <tbody>\n",
       "    <tr>\n",
       "      <th>0</th>\n",
       "      <td>0.222222</td>\n",
       "      <td>0.625000</td>\n",
       "      <td>0.067797</td>\n",
       "      <td>0.041667</td>\n",
       "    </tr>\n",
       "    <tr>\n",
       "      <th>1</th>\n",
       "      <td>0.166667</td>\n",
       "      <td>0.416667</td>\n",
       "      <td>0.067797</td>\n",
       "      <td>0.041667</td>\n",
       "    </tr>\n",
       "    <tr>\n",
       "      <th>2</th>\n",
       "      <td>0.111111</td>\n",
       "      <td>0.500000</td>\n",
       "      <td>0.050847</td>\n",
       "      <td>0.041667</td>\n",
       "    </tr>\n",
       "    <tr>\n",
       "      <th>3</th>\n",
       "      <td>0.083333</td>\n",
       "      <td>0.458333</td>\n",
       "      <td>0.084746</td>\n",
       "      <td>0.041667</td>\n",
       "    </tr>\n",
       "    <tr>\n",
       "      <th>4</th>\n",
       "      <td>0.194444</td>\n",
       "      <td>0.666667</td>\n",
       "      <td>0.067797</td>\n",
       "      <td>0.041667</td>\n",
       "    </tr>\n",
       "  </tbody>\n",
       "</table>\n",
       "</div>"
      ],
      "text/plain": [
       "          0         1         2         3\n",
       "0  0.222222  0.625000  0.067797  0.041667\n",
       "1  0.166667  0.416667  0.067797  0.041667\n",
       "2  0.111111  0.500000  0.050847  0.041667\n",
       "3  0.083333  0.458333  0.084746  0.041667\n",
       "4  0.194444  0.666667  0.067797  0.041667"
      ]
     },
     "execution_count": 11,
     "metadata": {},
     "output_type": "execute_result"
    }
   ],
   "source": [
    "#normalizar os atributos contínuos com MinMaxScaler()\n",
    "mms = MinMaxScaler()\n",
    "\n",
    "\n",
    "mms.fit(df_noClass)\n",
    "df_transformed = mms.transform(df_noClass)\n",
    "df_transformed = pd.DataFrame(df_transformed)\n",
    "df_transformed.head()"
   ]
  },
  {
   "cell_type": "code",
   "execution_count": 12,
   "id": "ffa0c527",
   "metadata": {},
   "outputs": [],
   "source": [
    "#Número de Classes\n",
    "k = 3"
   ]
  },
  {
   "cell_type": "code",
   "execution_count": 13,
   "id": "1ae27b02",
   "metadata": {},
   "outputs": [],
   "source": [
    "#Treinamento \n",
    "km = KMeans(n_clusters=k)\n",
    "km = km.fit_predict(df_noClass) "
   ]
  },
  {
   "cell_type": "code",
   "execution_count": 14,
   "id": "d1f412c6",
   "metadata": {},
   "outputs": [],
   "source": [
    "from sklearn.metrics import adjusted_rand_score, adjusted_mutual_info_score"
   ]
  },
  {
   "cell_type": "code",
   "execution_count": 15,
   "id": "42a613a5",
   "metadata": {},
   "outputs": [],
   "source": [
    "#Transformando a classe em um array\n",
    "classe_array = df['variety'].values"
   ]
  },
  {
   "cell_type": "code",
   "execution_count": 16,
   "id": "6f31515d",
   "metadata": {},
   "outputs": [
    {
     "name": "stdout",
     "output_type": "stream",
     "text": [
      "Adjusted Rand Index (ARI): 0.7302\n"
     ]
    }
   ],
   "source": [
    "# Calcular o ARI (Adjusted Rand Index)\n",
    "ari = adjusted_rand_score(classe_array, km)\n",
    "print(f\"Adjusted Rand Index (ARI): {ari:.4f}\")"
   ]
  },
  {
   "cell_type": "code",
   "execution_count": 17,
   "id": "656cce41",
   "metadata": {},
   "outputs": [
    {
     "name": "stdout",
     "output_type": "stream",
     "text": [
      "Adjusted Mutual Information (AMI): 0.7551\n"
     ]
    }
   ],
   "source": [
    "# Calcular o AMI (Adjusted Mutual Information)\n",
    "ami = adjusted_mutual_info_score(classe_array, km)\n",
    "print(f\"Adjusted Mutual Information (AMI): {ami:.4f}\")"
   ]
  },
  {
   "cell_type": "code",
   "execution_count": 18,
   "id": "b5ed8cd7",
   "metadata": {},
   "outputs": [],
   "source": [
    "#Geração de uma lista com as somas dos quadrados das distâncias\n",
    "Sum_of_squared_distances = []\n",
    "for k in range(1, 15):\n",
    "    km = KMeans(n_clusters=k)\n",
    "    km = km.fit(df_transformed)\n",
    "    Sum_of_squared_distances.append(km.inertia_)"
   ]
  },
  {
   "cell_type": "code",
   "execution_count": 19,
   "id": "d000b49c",
   "metadata": {},
   "outputs": [
    {
     "data": {
      "image/png": "[encoded data removed]",
      "text/plain": [
       "<Figure size 640x480 with 1 Axes>"
      ]
     },
     "metadata": {},
     "output_type": "display_data"
    }
   ],
   "source": [
    "#Plotagem do SSE x K\n",
    "plt.plot(range(1, 15), Sum_of_squared_distances, 'bx-')\n",
    "plt.xlabel('k')\n",
    "plt.ylabel('Soma dos quadrados das distâncias')\n",
    "plt.title('Método do Cotovelo para encontrar melhor valor de k')\n",
    "plt.show()"
   ]
  },
  {
   "cell_type": "markdown",
   "id": "9b866516",
   "metadata": {},
   "source": [
    "## Interpretação do Método do Cotovelo\n",
    "\n",
    "O gráfico do **Método do Cotovelo** mostra a relação entre o número de clusters (\\( k \\)) e a **soma dos quadrados das distâncias (SSE)**. O objetivo é identificar o ponto onde a diminuição do SSE começa a se estabilizar, formando um \"cotovelo\". Neste caso, o cotovelo está localizado em **\\( k = 3 \\)**, o que indica que **3 clusters** é o número ideal de centróides. Após esse ponto, o SSE continua a diminuir, mas de forma menos significativa, sugerindo que adicionar mais clusters não traz ganhos relevantes na compactação dos dados. Portanto, **\\( k = 3 \\)** é a escolha mais adequada para o número de clusters."
   ]
  },
  {
   "cell_type": "code",
   "execution_count": 20,
   "id": "eaa8e6eb",
   "metadata": {},
   "outputs": [],
   "source": [
    "from sklearn.metrics import silhouette_score"
   ]
  },
  {
   "cell_type": "code",
   "execution_count": 21,
   "id": "4cd6d463",
   "metadata": {},
   "outputs": [],
   "source": [
    "#Geração de uma lista de todos os índices de silhueta de acordo com K\n",
    "silhueta = []\n",
    "for k in range(2,15):\n",
    "    km = KMeans(n_clusters=k, n_init = 10)\n",
    "    km = km.fit_predict(df_noClass)\n",
    "    silhueta.append(silhouette_score(df_noClass, km))"
   ]
  },
  {
   "cell_type": "code",
   "execution_count": 22,
   "id": "14da9ba3",
   "metadata": {},
   "outputs": [
    {
     "data": {
      "image/png": "[encoded data removed]",
      "text/plain": [
       "<Figure size 640x480 with 1 Axes>"
      ]
     },
     "metadata": {},
     "output_type": "display_data"
    }
   ],
   "source": [
    "#plotagem Silhueta x K\n",
    "plt.plot(range(2, 15), silhueta, 'bx-')\n",
    "plt.xlabel('k')\n",
    "plt.ylabel('Índices de Silhueta')\n",
    "plt.title('Silhuetas para encontrar melhor valor de k')\n",
    "plt.show()"
   ]
  },
  {
   "cell_type": "markdown",
   "id": "899477f3",
   "metadata": {},
   "source": [
    "## Interpretação do Índice de Silhueta\n",
    "\n",
    "O gráfico do **Índice de Silhueta** mostra que tanto **\\( k = 2 \\)** quanto **\\( k = 3 \\)** têm valores altos, mas **\\( k = 3 \\)** é a escolha mais adequada. Embora o índice de silhueta para **\\( k = 2 \\)** seja alto, isso ocorre porque o algoritmo pode estar agrupando duas das três espécies naturais do dataset Iris em um único cluster, o que não reflete a verdadeira estrutura dos dados. O dataset Iris possui **3 espécies distintas** (Setosa, Versicolor e Virginica), e usar **\\( k = 2 \\)** pode resultar na fusão de duas espécies semelhantes (Versicolor e Virginica) em um único cluster, enquanto a Setosa é separada. Portanto, **\\( k = 3 \\)** é preferível, pois captura a estrutura natural dos dados, separando corretamente as três espécies. "
   ]
  }
 ],
 "metadata": {
  "kernelspec": {
   "display_name": "Python 3 (ipykernel)",
   "language": "python",
   "name": "python3"
  },
  "language_info": {
   "codemirror_mode": {
    "name": "ipython",
    "version": 3
   },
   "file_extension": ".py",
   "mimetype": "text/x-python",
   "name": "python",
   "nbconvert_exporter": "python",
   "pygments_lexer": "ipython3",
   "version": "3.11.7"
  }
 },
 "nbformat": 4,
 "nbformat_minor": 5
}
